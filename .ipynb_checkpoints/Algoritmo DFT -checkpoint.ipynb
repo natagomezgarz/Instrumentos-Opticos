{
 "cells": [
  {
   "cell_type": "code",
   "execution_count": 2,
   "id": "edf17f13-2b17-4ade-a9ca-deb4ce1958c1",
   "metadata": {},
   "outputs": [],
   "source": [
    "import mpmath as mp\n",
    "import numpy as np"
   ]
  },
  {
   "cell_type": "code",
   "execution_count": null,
   "id": "122ba0fd-4d1c-45dd-aece-6591fb9d50b2",
   "metadata": {},
   "outputs": [],
   "source": [
    "from PIL import Image  #aqui se importa la imagen \n",
    "\n",
    "myImage = Image.open(\"pequena.jpg\");\n",
    "\n",
    "myImage=np.array(myImage)\n",
    "\n",
    "myImage= myImage[:,:,0]\n",
    "print(myImage)"
   ]
  },
  {
   "cell_type": "code",
   "execution_count": null,
   "id": "4c20bd80-6171-40f9-9056-adefca78eda3",
   "metadata": {},
   "outputs": [],
   "source": []
  }
 ],
 "metadata": {
  "kernelspec": {
   "display_name": "Python 3",
   "language": "python",
   "name": "python3"
  },
  "language_info": {
   "codemirror_mode": {
    "name": "ipython",
    "version": 3
   },
   "file_extension": ".py",
   "mimetype": "text/x-python",
   "name": "python",
   "nbconvert_exporter": "python",
   "pygments_lexer": "ipython3",
   "version": "3.8.8"
  }
 },
 "nbformat": 4,
 "nbformat_minor": 5
}
