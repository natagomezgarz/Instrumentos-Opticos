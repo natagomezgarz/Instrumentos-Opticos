{
 "cells": [
  {
   "cell_type": "code",
   "execution_count": 3,
   "id": "72ea8dc4-6b6e-4263-ad64-cc7fbd2fd3a2",
   "metadata": {},
   "outputs": [],
   "source": [
    "import numpy as np\n",
    "import matplotlib.pyplot as plt\n",
    "import cv2\n",
    "import math\n",
    "import mpmath as mp"
   ]
  },
  {
   "cell_type": "code",
   "execution_count": 4,
   "id": "e3cbccc0-1303-4074-a8b4-d3793bab7ca2",
   "metadata": {},
   "outputs": [],
   "source": [
    "#Definición de unidades\n",
    "    #Escalas\n",
    "um=1e-6\n",
    "mm=1e-3\n",
    "nm=1e-9\n",
    "    #Tamaño imagen\n",
    "N=200\n",
    "M=200\n",
    "    #longitud de onda\n",
    "w_length=632*nm\n",
    "    #Tamaño de pixel\n",
    "dx=dy=1*um #equivalencia con el mundo físico"
   ]
  },
  {
   "cell_type": "code",
   "execution_count": 5,
   "id": "2a260b34-7246-420a-aa39-45932ae6c785",
   "metadata": {},
   "outputs": [],
   "source": [
    "#Espectro angular.\n",
    "def A_apx(U_f,dx_f,dy_f,z_f,wave_length):\n",
    "    U_freq=np.fft.fftshift(np.fft.fft2(U_f))\n",
    "    \n",
    "    N_f,M_f=np.shape(U_f) #The shape of an array is the number of elements in each dimension\n",
    "    x=np.arange(-int(M_f/2),int(M_f/2),1) #arreglo desde -la mitad del número de elementos que tenga cada dimensión\n",
    "    y=np.arange(-int(N_f/2),int(N_f/2),1) #hasta la mitad de número de elementos en cada dimensión, con pasos de a 1.\n",
    "    X,Y=np.meshgrid(x,y) #Return coordinate matrices from coordinate vectors.\n",
    "    \n",
    "     #dimensionando\n",
    "    fX=X*(1/(M_f*dx_f)) \n",
    "    fY=Y*(1/(N_f*dy_f))\n",
    "    \n",
    "    k= 2*np.pi/wave_length\n",
    "    C1 = 1j*z_f*k\n",
    "\n",
    "    matriz = np.exp(C1*np.sqrt(1-(wave_length**2)*((fX**2)+(fY**2))))\n",
    "\n",
    "    freq_p = U_freq*matriz\n",
    "    #plt.figure()\n",
    "    #plt.imshow(np.angle(\n",
    "    #matriz))\n",
    "        \n",
    "    #plt.show()\n",
    "    \n",
    "    return freq_p"
   ]
  },
  {
   "cell_type": "code",
   "execution_count": 6,
   "id": "6f65e337-9d2a-47c7-b402-b9400505e1d5",
   "metadata": {},
   "outputs": [
    {
     "name": "stdout",
     "output_type": "stream",
     "text": [
      "1.0\n"
     ]
    },
    {
     "data": {
      "image/png": "[encoded data removed]",
      "text/plain": [
       "<Figure size 432x288 with 1 Axes>"
      ]
     },
     "metadata": {
      "needs_background": "light"
     },
     "output_type": "display_data"
    }
   ],
   "source": [
    "### Punto 2.a Efecto talbot\n",
    "### Ajustar a implementación utilizada\n",
    "\n",
    "#Tamaño del [p0]ixel en el plano de entrada\n",
    "p0=1*um ##Ajustar a unidades\n",
    "# Factor de contraste 0<=m<=1 \n",
    "m=1\n",
    "#hacer rejilla\n",
    "## Auxiliar ## \n",
    "P=1024\n",
    "x = np.arange(-P*p0/2, P*p0/2, p0) ## P es el numero de pixeles\n",
    "y = np.arange(-P*p0/2, P*p0/2, p0)\n",
    "xx, yy = np.meshgrid(x, y, sparse=True)\n",
    "#Dibujar rejilla 1D\n",
    "L=63*um ## Ajustar a unidades \n",
    "\n",
    "rejilla_1D = 1/2*(1+m*np.cos(2*np.pi*xx/L+0*yy)) \n",
    "\n",
    "#plt.gray()\n",
    "#plt.imsave('rejilla_1D.png', rejilla_1D) #Guardar imagen\n",
    "#plt.imshow(rejilla_1D) #Mostrar 100-1 pixeles\n",
    "#plt.imshow(rejilla_1D[0:10,0:10], cmap='gray')\n",
    "#plt.show()\n",
    "print(np.max(rejilla_1D))\n",
    "plt.imshow(rejilla_1D, cmap='gray',vmin=0,vmax=1)\n",
    "plt.show()"
   ]
  },
  {
   "cell_type": "code",
   "execution_count": 85,
   "id": "67821689-55c8-4adc-a80a-c5b0fb27fd74",
   "metadata": {},
   "outputs": [
    {
     "data": {
      "text/plain": [
       "(128, 128)"
      ]
     },
     "execution_count": 85,
     "metadata": {},
     "output_type": "execute_result"
    }
   ],
   "source": [
    "np.shape(rejilla_1D)"
   ]
  },
  {
   "cell_type": "code",
   "execution_count": 8,
   "id": "bf7987ba-57f2-4e75-ac97-a86789b10093",
   "metadata": {},
   "outputs": [
    {
     "name": "stdout",
     "output_type": "stream",
     "text": [
      "1.0440703216450122\n"
     ]
    },
    {
     "data": {
      "image/png": "[encoded data removed]",
      "text/plain": [
       "<Figure size 432x288 with 1 Axes>"
      ]
     },
     "metadata": {
      "needs_background": "light"
     },
     "output_type": "display_data"
    }
   ],
   "source": [
    "## Formación de autoimagen positiva\n",
    "w_lentgth=630*nm ##longitud de onda \n",
    "N=2 ## valor N par\n",
    "## calcular la distancia de talbot\n",
    "Z2=N*((L**2)/w_lentgth)\n",
    "f_prop= A_apx(rejilla_1D,dx,dy,Z2,w_length) ## propagación por espectro angular\n",
    "fin=np.fft.ifft2(f_prop)\n",
    "fin2=(np.abs(fin))**2\n",
    "#plt.figure()\n",
    "#plt.imshow(fin2[0:10,0:10], cmap='gray')\n",
    "#plt.show()\n",
    "## Mostrar autoimagen\n",
    "print(np.max(fin2)) ##valor de irradiancia de la autoimagen\n",
    "plt.imshow(fin2, cmap='gray',vmin=0,vmax=1.044)\n",
    "plt.show()"
   ]
  },
  {
   "cell_type": "code",
   "execution_count": 9,
   "id": "c9fce515-4ad1-44e3-b38e-f462770324a0",
   "metadata": {},
   "outputs": [
    {
     "name": "stdout",
     "output_type": "stream",
     "text": [
      "1.0834610220211323\n"
     ]
    },
    {
     "data": {
      "image/png": "[encoded data removed]",
      "text/plain": [
       "<Figure size 432x288 with 1 Axes>"
      ]
     },
     "metadata": {
      "needs_background": "light"
     },
     "output_type": "display_data"
    }
   ],
   "source": [
    "## Formación de autoimagen negativa\n",
    "w_lentgth=630*nm ##longitud de onda \n",
    "N=3 ## valor N impar\n",
    "## calcular la distancia de talbot\n",
    "Z2=N*((L**2)/w_lentgth)\n",
    "f_prop= A_apx(rejilla_1D,dx,dy,Z2,w_length) ## propagación por espectro angular\n",
    "fin=np.fft.ifft2(f_prop)\n",
    "fin2=(np.abs(fin))**2\n",
    "#plt.figure()\n",
    "#plt.imshow(fin2[0:10,0:10], cmap='gray')\n",
    "#plt.show()\n",
    "## Mostrar autoimagen\n",
    "print(np.max(fin2)) ##valor de irradiancia de la autoimagen\n",
    "plt.imshow(fin2, cmap='gray',vmin=0,vmax=1.044)\n",
    "plt.show()"
   ]
  },
  {
   "cell_type": "code",
   "execution_count": null,
   "id": "27cf365b-9dc0-4600-9bcb-b6d201a52b84",
   "metadata": {},
   "outputs": [],
   "source": []
  }
 ],
 "metadata": {
  "kernelspec": {
   "display_name": "Python 3",
   "language": "python",
   "name": "python3"
  },
  "language_info": {
   "codemirror_mode": {
    "name": "ipython",
    "version": 3
   },
   "file_extension": ".py",
   "mimetype": "text/x-python",
   "name": "python",
   "nbconvert_exporter": "python",
   "pygments_lexer": "ipython3",
   "version": "3.8.8"
  }
 },
 "nbformat": 4,
 "nbformat_minor": 5
}
